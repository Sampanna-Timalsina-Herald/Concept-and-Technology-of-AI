{
  "nbformat": 4,
  "nbformat_minor": 0,
  "metadata": {
    "colab": {
      "provenance": []
    },
    "kernelspec": {
      "name": "python3",
      "display_name": "Python 3"
    },
    "language_info": {
      "name": "python"
    }
  },
  "cells": [
    {
      "cell_type": "markdown",
      "source": [
        "#Worksheet-1"
      ],
      "metadata": {
        "id": "-VkjA3wpcmvX"
      }
    },
    {
      "cell_type": "markdown",
      "source": [
        " 1. Initialize an empty array with size 2X2."
      ],
      "metadata": {
        "id": "URf13EA5BoQ5"
      }
    },
    {
      "cell_type": "code",
      "execution_count": null,
      "metadata": {
        "colab": {
          "base_uri": "https://localhost:8080/"
        },
        "id": "932XeLsqcjs4",
        "outputId": "1e16ff75-7038-4f00-8997-7fa331a79d2f"
      },
      "outputs": [
        {
          "output_type": "stream",
          "name": "stdout",
          "text": [
            "[[4.77225523e-310 0.00000000e+000]\n",
            " [6.82051887e-310 4.77280161e-310]]\n"
          ]
        }
      ],
      "source": [
        "import numpy as np\n",
        "empty_array=np.empty((2,2))\n",
        "print(empty_array)"
      ]
    },
    {
      "cell_type": "markdown",
      "source": [
        "2. Initialize an all one array with size 4X2"
      ],
      "metadata": {
        "id": "f22tRRdQBsfR"
      }
    },
    {
      "cell_type": "code",
      "source": [
        "all_one_array=np.ones((4,2))\n",
        "print(all_one_array)"
      ],
      "metadata": {
        "colab": {
          "base_uri": "https://localhost:8080/"
        },
        "id": "dk1jb150db0u",
        "outputId": "f43628b3-01f9-4475-e513-20f9e5053f63"
      },
      "execution_count": null,
      "outputs": [
        {
          "output_type": "stream",
          "name": "stdout",
          "text": [
            "[[1. 1.]\n",
            " [1. 1.]\n",
            " [1. 1.]\n",
            " [1. 1.]]\n"
          ]
        }
      ]
    },
    {
      "cell_type": "markdown",
      "source": [
        " 3. Return a new array of given shape and type, filled with fill value.{Hint: np.full}"
      ],
      "metadata": {
        "id": "FRpf48dzBy4A"
      }
    },
    {
      "cell_type": "code",
      "source": [
        "def first_array(fill_value):\n",
        "  return np.full((3,2),fill_value)\n",
        "first_array(6)"
      ],
      "metadata": {
        "colab": {
          "base_uri": "https://localhost:8080/"
        },
        "id": "LXGirO5-d6Kd",
        "outputId": "e664f8c7-78ab-4803-9683-136bc793bda9"
      },
      "execution_count": null,
      "outputs": [
        {
          "output_type": "execute_result",
          "data": {
            "text/plain": [
              "array([[6, 6],\n",
              "       [6, 6],\n",
              "       [6, 6]])"
            ]
          },
          "metadata": {},
          "execution_count": 3
        }
      ]
    },
    {
      "cell_type": "markdown",
      "source": [
        "4. Return a new array of zeros with same shape and type as a given array.{Hint: np.zeros like}"
      ],
      "metadata": {
        "id": "JVDLnZr_B7cc"
      }
    },
    {
      "cell_type": "code",
      "source": [
        "def zeros_array(shape):\n",
        "  return np.zeros_like(shape)\n",
        "make_zero = np.array([[3,4,5],[4,5,6]])\n",
        "zeros_array(make_zero)\n"
      ],
      "metadata": {
        "colab": {
          "base_uri": "https://localhost:8080/"
        },
        "id": "nZ1G-WoHercy",
        "outputId": "26e1fc05-b720-4d26-d6c1-204e02988d6d"
      },
      "execution_count": null,
      "outputs": [
        {
          "output_type": "execute_result",
          "data": {
            "text/plain": [
              "array([[0, 0, 0],\n",
              "       [0, 0, 0]])"
            ]
          },
          "metadata": {},
          "execution_count": 13
        }
      ]
    },
    {
      "cell_type": "markdown",
      "source": [
        "5. Return a new array of ones with same shape and type as a given array.{Hint: np.ones like}"
      ],
      "metadata": {
        "id": "e0lmK7dwB-Ot"
      }
    },
    {
      "cell_type": "code",
      "source": [
        "def ones_array(shape):\n",
        "  return np.ones_like(shape)\n",
        "make_zero = np.array([[3,4,5],[4,5,6]])\n",
        "ones_array(make_zero)"
      ],
      "metadata": {
        "colab": {
          "base_uri": "https://localhost:8080/"
        },
        "id": "WVIkk7JMfq7K",
        "outputId": "ef715a76-310b-4241-95a7-7564270621d2"
      },
      "execution_count": null,
      "outputs": [
        {
          "output_type": "execute_result",
          "data": {
            "text/plain": [
              "array([[1, 1, 1],\n",
              "       [1, 1, 1]])"
            ]
          },
          "metadata": {},
          "execution_count": 21
        }
      ]
    },
    {
      "cell_type": "markdown",
      "source": [
        "6. For an existing list new_list = [1,2,3,4] convert to an numpy array.{Hint: np.array()}"
      ],
      "metadata": {
        "id": "6XEEm860CBNa"
      }
    },
    {
      "cell_type": "code",
      "source": [
        "new_list = [1,2,3,4]\n",
        "to_numpy = np.array(new_list)\n",
        "print(to_numpy)"
      ],
      "metadata": {
        "colab": {
          "base_uri": "https://localhost:8080/"
        },
        "id": "s2ScCYDxfoJw",
        "outputId": "d4aced0e-473d-4df2-f347-1f2fa8007ca9"
      },
      "execution_count": null,
      "outputs": [
        {
          "output_type": "stream",
          "name": "stdout",
          "text": [
            "[1 2 3 4]\n"
          ]
        }
      ]
    },
    {
      "cell_type": "markdown",
      "source": [
        "#Problem-2"
      ],
      "metadata": {
        "id": "jdBODwgJCGvK"
      }
    },
    {
      "cell_type": "markdown",
      "source": [
        " 1. Create an array with values ranging from 10 to 49. {Hint:np.arrange()}."
      ],
      "metadata": {
        "id": "2avuMYpXCJSd"
      }
    },
    {
      "cell_type": "code",
      "source": [
        "#Problem:2\n",
        "random_values = np.arange(10,49)\n",
        "print(random_values)"
      ],
      "metadata": {
        "colab": {
          "base_uri": "https://localhost:8080/"
        },
        "id": "T6GSSmnUgz0Q",
        "outputId": "1fc586d2-eb39-431b-dc1b-a3d43dac82c0"
      },
      "execution_count": null,
      "outputs": [
        {
          "output_type": "stream",
          "name": "stdout",
          "text": [
            "[10 11 12 13 14 15 16 17 18 19 20 21 22 23 24 25 26 27 28 29 30 31 32 33\n",
            " 34 35 36 37 38 39 40 41 42 43 44 45 46 47 48]\n"
          ]
        }
      ]
    },
    {
      "cell_type": "markdown",
      "source": [
        "2. Create a 3X3 matrix with values ranging from 0 to 8.\n",
        " {Hint:look for np.reshape()}"
      ],
      "metadata": {
        "id": "ySTc6ivbCU8K"
      }
    },
    {
      "cell_type": "code",
      "source": [
        "three_matrix = np.arange(0,9).reshape(3,3)\n",
        "print(three_matrix)"
      ],
      "metadata": {
        "colab": {
          "base_uri": "https://localhost:8080/"
        },
        "id": "gnatrAwdhRlN",
        "outputId": "ac0cd43a-c05f-4dfa-d3e5-d0a1eeb0c5cc"
      },
      "execution_count": null,
      "outputs": [
        {
          "output_type": "stream",
          "name": "stdout",
          "text": [
            "[[0 1 2]\n",
            " [3 4 5]\n",
            " [6 7 8]]\n"
          ]
        }
      ]
    },
    {
      "cell_type": "markdown",
      "source": [
        " 3. Create a 3X3 identity matrix.{Hint:np.eye()}"
      ],
      "metadata": {
        "id": "cAzXmJ_5Ca-D"
      }
    },
    {
      "cell_type": "code",
      "source": [
        "identity_matrix = np.eye(3)\n",
        "print(identity_matrix)"
      ],
      "metadata": {
        "colab": {
          "base_uri": "https://localhost:8080/"
        },
        "id": "xvIt9H6LhtjB",
        "outputId": "0aa9416c-becb-4fe4-c5d9-bc5f6a735040"
      },
      "execution_count": null,
      "outputs": [
        {
          "output_type": "stream",
          "name": "stdout",
          "text": [
            "[[1. 0. 0.]\n",
            " [0. 1. 0.]\n",
            " [0. 0. 1.]]\n"
          ]
        }
      ]
    },
    {
      "cell_type": "markdown",
      "source": [
        "4. Create a random array of size 30 and find the mean of the array.\n",
        " {Hint:check for np.random.random() and array.mean() function}"
      ],
      "metadata": {
        "id": "iJcqAaFXChHX"
      }
    },
    {
      "cell_type": "code",
      "source": [
        "random_array = np.random.random(30)\n",
        "random_mean = np.mean(random_array)\n",
        "print(random_array)\n",
        "print(\"The mean of Random Array is:\",random_mean)"
      ],
      "metadata": {
        "colab": {
          "base_uri": "https://localhost:8080/"
        },
        "id": "qmaTxX5ah5hZ",
        "outputId": "26cf56dc-dfc2-4a19-f0d0-52bb3c170281"
      },
      "execution_count": null,
      "outputs": [
        {
          "output_type": "stream",
          "name": "stdout",
          "text": [
            "[0.46449479 0.09780134 0.73451437 0.37092809 0.96517208 0.06189026\n",
            " 0.46195204 0.63521909 0.08972017 0.97217511 0.42209298 0.58105344\n",
            " 0.48914648 0.06389438 0.03711336 0.11790346 0.17438583 0.86597187\n",
            " 0.61092774 0.29571328 0.03807512 0.7003052  0.55691875 0.34335429\n",
            " 0.56666868 0.29748715 0.21079133 0.55521307 0.40978252 0.80668751]\n",
            "The mean of Random Array is: 0.4332451260661106\n"
          ]
        }
      ]
    },
    {
      "cell_type": "markdown",
      "source": [
        "5. Create a 10X10 array with random values and find the minimum and maximum values"
      ],
      "metadata": {
        "id": "vmh7KpdRCm2i"
      }
    },
    {
      "cell_type": "code",
      "source": [
        "ten_by_ten = np.random.rand(10,10)\n",
        "print(\"The 10X10 matrix is :\", ten_by_ten)\n",
        "min_value = ten_by_ten.min()\n",
        "max_value = ten_by_ten.max()\n",
        "print(\"The minimum value is :\", min_value)\n",
        "print(\"The maximum value is :\", max_value)\n",
        "#"
      ],
      "metadata": {
        "colab": {
          "base_uri": "https://localhost:8080/"
        },
        "id": "ThGhd6rVjJ-J",
        "outputId": "9f96d61a-5417-4686-fcbb-3999e2eab500"
      },
      "execution_count": null,
      "outputs": [
        {
          "output_type": "stream",
          "name": "stdout",
          "text": [
            "The 10X10 matrix is : [[0.18091001 0.01700119 0.34365174 0.25862911 0.11623631 0.75491581\n",
            "  0.58154174 0.70509941 0.72783851 0.91579223]\n",
            " [0.91629458 0.33274702 0.84594746 0.3785004  0.27234859 0.90895094\n",
            "  0.28321397 0.47068071 0.99915135 0.42198118]\n",
            " [0.26928302 0.37458851 0.12323218 0.30806194 0.01611721 0.81460365\n",
            "  0.03623036 0.23780324 0.49318399 0.11325049]\n",
            " [0.23410354 0.7358642  0.6545273  0.24789986 0.95833023 0.53592964\n",
            "  0.48704558 0.52697672 0.80158968 0.60211276]\n",
            " [0.12065853 0.25240213 0.62712361 0.64747404 0.78569815 0.9333416\n",
            "  0.82538197 0.26992662 0.28513936 0.61431047]\n",
            " [0.69368044 0.13542667 0.9650751  0.12304323 0.09424419 0.78116881\n",
            "  0.46367618 0.55692048 0.23361527 0.07589258]\n",
            " [0.54590732 0.79246924 0.7403556  0.9237862  0.64380963 0.47245484\n",
            "  0.83939516 0.44494964 0.09876107 0.22011285]\n",
            " [0.22682145 0.63552209 0.93986014 0.09996853 0.35446464 0.22397222\n",
            "  0.78233615 0.16427211 0.24646421 0.63782486]\n",
            " [0.84740573 0.69219803 0.64306352 0.90714476 0.32479306 0.39887694\n",
            "  0.2300287  0.48313814 0.39643682 0.8077925 ]\n",
            " [0.16107502 0.14714848 0.8311872  0.20296097 0.41877563 0.30319494\n",
            "  0.08969086 0.07809235 0.65420777 0.30238216]]\n",
            "The minimum value is : 0.0161172058839264\n",
            "The maximum value is : 0.9991513528287009\n"
          ]
        }
      ]
    },
    {
      "cell_type": "markdown",
      "source": [
        " 6. Create a zero array of size 10 and replace 5th element with 1"
      ],
      "metadata": {
        "id": "S55fZefJCroW"
      }
    },
    {
      "cell_type": "code",
      "source": [
        "zero_aray = np.zeros(10)\n",
        "zero_aray[4] = 1\n",
        "print(zero_aray)"
      ],
      "metadata": {
        "colab": {
          "base_uri": "https://localhost:8080/"
        },
        "id": "BOtEJ9rCktJO",
        "outputId": "4aa8dfa5-79a2-469b-c11c-6c0265a93664"
      },
      "execution_count": null,
      "outputs": [
        {
          "output_type": "stream",
          "name": "stdout",
          "text": [
            "[0. 0. 0. 0. 1. 0. 0. 0. 0. 0.]\n"
          ]
        }
      ]
    },
    {
      "cell_type": "markdown",
      "source": [
        "7. Reverse an array arr = [1,2,0,0,4,0]"
      ],
      "metadata": {
        "id": "GcSNU5QzCtq7"
      }
    },
    {
      "cell_type": "code",
      "source": [
        "arr = [1,2,0,0,4,4]\n",
        "reversed_array = np.flip(arr)\n",
        "print(reversed_array)"
      ],
      "metadata": {
        "colab": {
          "base_uri": "https://localhost:8080/"
        },
        "id": "9xtNav8Gk64W",
        "outputId": "599fd40c-820a-4c06-ed10-a2d164dfb4de"
      },
      "execution_count": null,
      "outputs": [
        {
          "output_type": "stream",
          "name": "stdout",
          "text": [
            "[4 4 0 0 2 1]\n"
          ]
        }
      ]
    },
    {
      "cell_type": "markdown",
      "source": [
        "8. Create a 2d array with 1 on border and 0 inside"
      ],
      "metadata": {
        "id": "Xn32W3ZaCweZ"
      }
    },
    {
      "cell_type": "code",
      "source": [
        "arr = np.ones((6,6))\n",
        "arr[1:-1,1:-1] = 0\n",
        "print(arr)"
      ],
      "metadata": {
        "colab": {
          "base_uri": "https://localhost:8080/"
        },
        "id": "tDC8KWGdlrQD",
        "outputId": "9cee6b5c-8016-48f5-ceb1-c4949be66904"
      },
      "execution_count": null,
      "outputs": [
        {
          "output_type": "stream",
          "name": "stdout",
          "text": [
            "[[1. 1. 1. 1. 1. 1.]\n",
            " [1. 0. 0. 0. 0. 1.]\n",
            " [1. 0. 0. 0. 0. 1.]\n",
            " [1. 0. 0. 0. 0. 1.]\n",
            " [1. 0. 0. 0. 0. 1.]\n",
            " [1. 1. 1. 1. 1. 1.]]\n"
          ]
        }
      ]
    },
    {
      "cell_type": "markdown",
      "source": [
        "9. Create a 8X8 matrix and fill it with a checkerboard pattern"
      ],
      "metadata": {
        "id": "MndIA3rtCzTD"
      }
    },
    {
      "cell_type": "code",
      "source": [
        "checker_board = np.zeros((8,8))\n",
        "checker_board[1::2,::2] = 1\n",
        "checker_board[::2,1::2] = 1\n",
        "print(checker_board)"
      ],
      "metadata": {
        "colab": {
          "base_uri": "https://localhost:8080/"
        },
        "id": "vjUxZqsCmo-V",
        "outputId": "4e598d12-e839-449e-ab4f-a7f45732d21a"
      },
      "execution_count": null,
      "outputs": [
        {
          "output_type": "stream",
          "name": "stdout",
          "text": [
            "[[0. 1. 0. 1. 0. 1. 0. 1.]\n",
            " [1. 0. 1. 0. 1. 0. 1. 0.]\n",
            " [0. 1. 0. 1. 0. 1. 0. 1.]\n",
            " [1. 0. 1. 0. 1. 0. 1. 0.]\n",
            " [0. 1. 0. 1. 0. 1. 0. 1.]\n",
            " [1. 0. 1. 0. 1. 0. 1. 0.]\n",
            " [0. 1. 0. 1. 0. 1. 0. 1.]\n",
            " [1. 0. 1. 0. 1. 0. 1. 0.]]\n"
          ]
        }
      ]
    },
    {
      "cell_type": "markdown",
      "source": [
        "#Problem-3"
      ],
      "metadata": {
        "id": "_bt2BmJFC1_-"
      }
    },
    {
      "cell_type": "code",
      "source": [
        "from re import sub\n",
        "# Problem 3\n",
        "x = np.array([[1,2],[3,5]])\n",
        "y = np.array([[5,6],[7,8]])\n",
        "v = np.array([9,10])\n",
        "w = np.array([11,12])\n",
        "# Addition of Arrays\n",
        "add_arrays = x+y\n",
        "print(f\"The sum of the given arrays is:\\n{add_arrays}\")\n",
        "#Subtraction of Arrays\n",
        "sub_arrays = x-y\n",
        "print(f\"The difference of the given arrays is:\\n{sub_arrays}\")\n",
        "#Multiplication of Arrays\n",
        "multiarray = x*y\n",
        "print(f\"The product of the given arrays is:\\n{multiarray}\")\n",
        "#Square of arrays\n",
        "squara_array = np.square(x)\n",
        "print(f\"The square of the given arrays is:\\n{squara_array}\")\n",
        "#Dot Product of v,w\n",
        "dot_product1 = np.dot(v,w)\n",
        "print(f\"The dot product of the given arrays is:\\n{dot_product1}\")\n",
        "# Dot Product of x,v\n",
        "dot_product = np.dot(x,v)\n",
        "print(f\"The dot product of the given arrays is:\\n{dot_product}\")\n",
        "#Dot product of x,y\n",
        "dot_product_x_y = np.dot(x,y)\n",
        "print(f\"The dot product of the given arrays is:\\n{dot_product_x_y}\")\n",
        "\n",
        "#Concatenate x and y along row\n",
        "concat_row = np.concatenate((x,y),axis=0)\n",
        "print(f\"The concatenated row of the given arrays is:\\n{concat_row}\")\n",
        "\n",
        "#Concatenate v and w along column\n",
        "concat_col=np.concatenate((v,w))\n",
        "print(f\"The concatenated column of the given arrays is:\\n{concat_col}\")\n",
        "\n",
        "concat_x_v = np.concatenate((x,v))\n",
        "print(f\"The concatenated column of the given arrays is:\\n{concat_x_v}\")\n",
        "## Error\n"
      ],
      "metadata": {
        "colab": {
          "base_uri": "https://localhost:8080/",
          "height": 679
        },
        "id": "HmfphKGIoLdw",
        "outputId": "e2753721-7bd6-4b69-a142-cb68ff9eb52d"
      },
      "execution_count": null,
      "outputs": [
        {
          "output_type": "stream",
          "name": "stdout",
          "text": [
            "The sum of the given arrays is:\n",
            "[[ 6  8]\n",
            " [10 13]]\n",
            "The difference of the given arrays is:\n",
            "[[-4 -4]\n",
            " [-4 -3]]\n",
            "The product of the given arrays is:\n",
            "[[ 5 12]\n",
            " [21 40]]\n",
            "The square of the given arrays is:\n",
            "[[ 1  4]\n",
            " [ 9 25]]\n",
            "The dot product of the given arrays is:\n",
            "219\n",
            "The dot product of the given arrays is:\n",
            "[29 77]\n",
            "The dot product of the given arrays is:\n",
            "[[19 22]\n",
            " [50 58]]\n",
            "The concatenated row of the given arrays is:\n",
            "[[1 2]\n",
            " [3 5]\n",
            " [5 6]\n",
            " [7 8]]\n",
            "The concatenated column of the given arrays is:\n",
            "[ 9 10 11 12]\n"
          ]
        },
        {
          "output_type": "error",
          "ename": "ValueError",
          "evalue": "all the input arrays must have same number of dimensions, but the array at index 0 has 2 dimension(s) and the array at index 1 has 1 dimension(s)",
          "traceback": [
            "\u001b[0;31m---------------------------------------------------------------------------\u001b[0m",
            "\u001b[0;31mValueError\u001b[0m                                Traceback (most recent call last)",
            "\u001b[0;32m<ipython-input-53-bebc886e4df1>\u001b[0m in \u001b[0;36m<cell line: 37>\u001b[0;34m()\u001b[0m\n\u001b[1;32m     35\u001b[0m \u001b[0mprint\u001b[0m\u001b[0;34m(\u001b[0m\u001b[0;34mf\"The concatenated column of the given arrays is:\\n{concat_col}\"\u001b[0m\u001b[0;34m)\u001b[0m\u001b[0;34m\u001b[0m\u001b[0;34m\u001b[0m\u001b[0m\n\u001b[1;32m     36\u001b[0m \u001b[0;34m\u001b[0m\u001b[0m\n\u001b[0;32m---> 37\u001b[0;31m \u001b[0mconcat_x_v\u001b[0m \u001b[0;34m=\u001b[0m \u001b[0mnp\u001b[0m\u001b[0;34m.\u001b[0m\u001b[0mconcatenate\u001b[0m\u001b[0;34m(\u001b[0m\u001b[0;34m(\u001b[0m\u001b[0mx\u001b[0m\u001b[0;34m,\u001b[0m\u001b[0mv\u001b[0m\u001b[0;34m)\u001b[0m\u001b[0;34m)\u001b[0m\u001b[0;34m\u001b[0m\u001b[0;34m\u001b[0m\u001b[0m\n\u001b[0m\u001b[1;32m     38\u001b[0m \u001b[0mprint\u001b[0m\u001b[0;34m(\u001b[0m\u001b[0;34mf\"The concatenated column of the given arrays is:\\n{concat_x_v}\"\u001b[0m\u001b[0;34m)\u001b[0m\u001b[0;34m\u001b[0m\u001b[0;34m\u001b[0m\u001b[0m\n\u001b[1;32m     39\u001b[0m \u001b[0;31m## Error\u001b[0m\u001b[0;34m\u001b[0m\u001b[0;34m\u001b[0m\u001b[0m\n",
            "\u001b[0;31mValueError\u001b[0m: all the input arrays must have same number of dimensions, but the array at index 0 has 2 dimension(s) and the array at index 1 has 1 dimension(s)"
          ]
        }
      ]
    },
    {
      "cell_type": "markdown",
      "source": [
        "#Problem4"
      ],
      "metadata": {
        "id": "V1sxBDmQDBzb"
      }
    },
    {
      "cell_type": "code",
      "source": [
        "import numpy as np\n",
        "\n",
        "# Define the matrices\n",
        "A = np.array([[3, 4], [7, 8]])\n",
        "B = np.array([[5, 3], [2, 1]])\n",
        "\n",
        "# 1. Prove A.A⁻¹ = I\n",
        "inverse_A = np.linalg.inv(A)\n",
        "AA_inv = np.dot(A, inverse_A)\n",
        "identity_matrix = np.eye(A.shape[0])  # Generate a 2x2 identity matrix\n",
        "print(f\"A:\\n{A}\")\n",
        "print(f\"Inverse of A (A⁻¹):\\n{inverse_A}\")\n",
        "print(f\"A * A⁻¹:\\n{AA_inv}\")\n",
        "print(f\"Identity matrix (I):\\n{identity_matrix}\")\n",
        "print(f\"A * A⁻¹ equals I: {np.allclose(AA_inv, identity_matrix)}\\n\")\n",
        "\n",
        "# 2. Prove AB = BA\n",
        "AB = np.dot(A, B)\n",
        "BA = np.dot(B, A)\n",
        "print(f\"A * B:\\n{AB}\")\n",
        "print(f\"B * A:\\n{BA}\")\n",
        "print(f\"AB equals BA: {np.allclose(AB, BA)}\\n\")\n",
        "\n",
        "# 3. Prove (AB)ᵀ = Bᵀ * Aᵀ\n",
        "AB_T = np.transpose(AB)\n",
        "BT_AT = np.dot(B.T, A.T)\n",
        "print(f\"(AB)ᵀ:\\n{AB_T}\")\n",
        "print(f\"Bᵀ * Aᵀ:\\n{BT_AT}\")\n",
        "print(f\"(AB)ᵀ equals Bᵀ * Aᵀ: {np.allclose(AB_T, BT_AT)}\\n\")\n",
        "\n",
        "# Define matrix A and B\n",
        "A_eq = np.array([[2, -3, 1], [1, -1, 2], [3, 1, -1]])\n",
        "B_eq = np.array([-1, -3, 9])\n",
        "\n",
        "# Solve using inverse method\n",
        "A_inv = np.linalg.inv(A_eq)\n",
        "X = np.dot(A_inv, B_eq)\n",
        "print(f\"The solution X (using inverse method) is:\\n{X}\\n\")\n",
        "\n",
        "# Solve using np.linalg.solve (preferred method for numerical stability)\n",
        "X_solve = np.linalg.solve(A_eq, B_eq)\n",
        "print(f\"The solution X (using np.linalg.solve) is:\\n{X_solve}\")\n"
      ],
      "metadata": {
        "colab": {
          "base_uri": "https://localhost:8080/"
        },
        "id": "WmKOo2JKs1EB",
        "outputId": "805d8ea8-2569-4f3e-d5be-525be9abe6f1"
      },
      "execution_count": null,
      "outputs": [
        {
          "output_type": "stream",
          "name": "stdout",
          "text": [
            "The inverse of A is:\n",
            "[[-2.    1.  ]\n",
            " [ 1.75 -0.75]]\n",
            "The dot product of A is:\n",
            "[[1.00000000e+00 0.00000000e+00]\n",
            " [1.77635684e-15 1.00000000e+00]]\n",
            "The identity matrix is:\n",
            "[[1. 0.]\n",
            " [0. 1.]]\n"
          ]
        }
      ]
    }
  ]
}