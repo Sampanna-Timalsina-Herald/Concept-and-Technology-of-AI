{
  "nbformat": 4,
  "nbformat_minor": 0,
  "metadata": {
    "colab": {
      "provenance": []
    },
    "kernelspec": {
      "name": "python3",
      "display_name": "Python 3"
    },
    "language_info": {
      "name": "python"
    }
  },
  "cells": [
    {
      "cell_type": "markdown",
      "source": [
        "#Worksheet-2\n",
        "Sampanna Timalsina\n"
      ],
      "metadata": {
        "id": "A3Jbgtmkn8Pv"
      }
    },
    {
      "cell_type": "markdown",
      "source": [
        "#3.1 TO DO TASK"
      ],
      "metadata": {
        "id": "bferUocAlNqA"
      }
    },
    {
      "cell_type": "code",
      "execution_count": 3,
      "metadata": {
        "id": "YCISS_r7n4qU"
      },
      "outputs": [],
      "source": [
        "import pandas as pd\n"
      ]
    },
    {
      "cell_type": "markdown",
      "source": [
        "1. Load the provided dataset and import in pandas DataFrame."
      ],
      "metadata": {
        "id": "9k89h11RowJP"
      }
    },
    {
      "cell_type": "markdown",
      "source": [
        "2. Check info of the DataFrame and identify following:\n",
        "(a) columns with dtypes=object\n",
        "(b) unique values of those columns.\n",
        "(c) check for the total number of null values in each column"
      ],
      "metadata": {
        "id": "PAoX4UypphzO"
      }
    },
    {
      "cell_type": "code",
      "source": [
        "data.info()\n",
        "drop_data = data.select_dtypes(exclude=['object'])\n",
        "print(drop_data)"
      ],
      "metadata": {
        "colab": {
          "base_uri": "https://localhost:8080/"
        },
        "id": "ui54SXW4o_it",
        "outputId": "6a1925f2-7999-4e08-f1c8-658caca35dd2"
      },
      "execution_count": 26,
      "outputs": [
        {
          "output_type": "stream",
          "name": "stdout",
          "text": [
            "<class 'pandas.core.frame.DataFrame'>\n",
            "RangeIndex: 891 entries, 0 to 890\n",
            "Data columns (total 16 columns):\n",
            " #   Column       Non-Null Count  Dtype   \n",
            "---  ------       --------------  -----   \n",
            " 0   PassengerId  891 non-null    int64   \n",
            " 1   Survived     891 non-null    int64   \n",
            " 2   Pclass       891 non-null    int64   \n",
            " 3   Name         891 non-null    object  \n",
            " 4   Sex          891 non-null    object  \n",
            " 5   Age          714 non-null    float64 \n",
            " 6   SibSp        891 non-null    int64   \n",
            " 7   Parch        891 non-null    int64   \n",
            " 8   Ticket       891 non-null    object  \n",
            " 9   Fare         891 non-null    float64 \n",
            " 10  Cabin        204 non-null    object  \n",
            " 11  Embarked_C   891 non-null    bool    \n",
            " 12  Embarked_Q   891 non-null    bool    \n",
            " 13  Embarked_S   891 non-null    bool    \n",
            " 14  Embarked     891 non-null    object  \n",
            " 15  Age Group    714 non-null    category\n",
            "dtypes: bool(3), category(1), float64(2), int64(5), object(5)\n",
            "memory usage: 87.3+ KB\n",
            "     PassengerId  Survived  Pclass   Age  SibSp  Parch     Fare  Embarked_C  \\\n",
            "0              1         0       3  22.0      1      0   7.2500       False   \n",
            "1              2         1       1  38.0      1      0  71.2833        True   \n",
            "2              3         1       3  26.0      0      0   7.9250       False   \n",
            "3              4         1       1  35.0      1      0  53.1000       False   \n",
            "4              5         0       3  35.0      0      0   8.0500       False   \n",
            "..           ...       ...     ...   ...    ...    ...      ...         ...   \n",
            "886          887         0       2  27.0      0      0  13.0000       False   \n",
            "887          888         1       1  19.0      0      0  30.0000       False   \n",
            "888          889         0       3   NaN      1      2  23.4500       False   \n",
            "889          890         1       1  26.0      0      0  30.0000        True   \n",
            "890          891         0       3  32.0      0      0   7.7500       False   \n",
            "\n",
            "     Embarked_Q  Embarked_S Age Group  \n",
            "0         False        True        Q2  \n",
            "1         False       False        Q4  \n",
            "2         False        True        Q3  \n",
            "3         False        True        Q4  \n",
            "4         False        True        Q4  \n",
            "..          ...         ...       ...  \n",
            "886       False        True        Q3  \n",
            "887       False        True        Q1  \n",
            "888       False        True       NaN  \n",
            "889       False       False        Q3  \n",
            "890        True       False        Q4  \n",
            "\n",
            "[891 rows x 11 columns]\n"
          ]
        }
      ]
    },
    {
      "cell_type": "code",
      "source": [
        "data = pd.read_csv('/content/drive/MyDrive/Concept and Technology of AI/bank .csv')\n",
        "data.info()\n",
        "print(data.isnull().sum())"
      ],
      "metadata": {
        "colab": {
          "base_uri": "https://localhost:8080/"
        },
        "id": "oTaWmv8koIiA",
        "outputId": "d983c877-a6fb-4136-daed-3e419660540a"
      },
      "execution_count": 4,
      "outputs": [
        {
          "output_type": "stream",
          "name": "stdout",
          "text": [
            "<class 'pandas.core.frame.DataFrame'>\n",
            "RangeIndex: 45211 entries, 0 to 45210\n",
            "Data columns (total 17 columns):\n",
            " #   Column     Non-Null Count  Dtype \n",
            "---  ------     --------------  ----- \n",
            " 0   age        45211 non-null  int64 \n",
            " 1   job        45211 non-null  object\n",
            " 2   marital    45211 non-null  object\n",
            " 3   education  45211 non-null  object\n",
            " 4   default    45211 non-null  object\n",
            " 5   balance    45211 non-null  int64 \n",
            " 6   housing    45211 non-null  object\n",
            " 7   loan       45211 non-null  object\n",
            " 8   contact    45211 non-null  object\n",
            " 9   day        45211 non-null  int64 \n",
            " 10  month      45211 non-null  object\n",
            " 11  duration   45211 non-null  int64 \n",
            " 12  campaign   45211 non-null  int64 \n",
            " 13  pdays      45211 non-null  int64 \n",
            " 14  previous   45211 non-null  int64 \n",
            " 15  poutcome   45211 non-null  object\n",
            " 16  y          45211 non-null  object\n",
            "dtypes: int64(7), object(10)\n",
            "memory usage: 5.9+ MB\n",
            "age          0\n",
            "job          0\n",
            "marital      0\n",
            "education    0\n",
            "default      0\n",
            "balance      0\n",
            "housing      0\n",
            "loan         0\n",
            "contact      0\n",
            "day          0\n",
            "month        0\n",
            "duration     0\n",
            "campaign     0\n",
            "pdays        0\n",
            "previous     0\n",
            "poutcome     0\n",
            "y            0\n",
            "dtype: int64\n"
          ]
        }
      ]
    },
    {
      "cell_type": "markdown",
      "source": [
        "3. Drop all the columns with dtypes object and store in new DataFrame, also write the DataFrame in\n",
        "”.csv” with name ”banknumericdata.csv”\n"
      ],
      "metadata": {
        "id": "7WS-ASTDpun3"
      }
    },
    {
      "cell_type": "code",
      "source": [
        "drop_data.to_csv('banknumericdata.csv', index=False)"
      ],
      "metadata": {
        "id": "QFJkz_9OpwYj"
      },
      "execution_count": 27,
      "outputs": []
    },
    {
      "cell_type": "markdown",
      "source": [
        "4. Read ”banknumericdata.csv” and Find the summary statistics"
      ],
      "metadata": {
        "id": "Qy3UHwvsqEsT"
      }
    },
    {
      "cell_type": "code",
      "source": [
        "bank_numeriec_data = pd.read_csv('/content/banknumericdata.csv')\n",
        "bank_numeriec_data.describe()"
      ],
      "metadata": {
        "colab": {
          "base_uri": "https://localhost:8080/",
          "height": 300
        },
        "id": "FOSogXG1qJOf",
        "outputId": "dfd3eb16-6141-4166-a223-188a3b109051"
      },
      "execution_count": 28,
      "outputs": [
        {
          "output_type": "execute_result",
          "data": {
            "text/plain": [
              "       PassengerId    Survived      Pclass         Age       SibSp  \\\n",
              "count   891.000000  891.000000  891.000000  714.000000  891.000000   \n",
              "mean    446.000000    0.383838    2.308642   29.699118    0.523008   \n",
              "std     257.353842    0.486592    0.836071   14.526497    1.102743   \n",
              "min       1.000000    0.000000    1.000000    0.420000    0.000000   \n",
              "25%     223.500000    0.000000    2.000000   20.125000    0.000000   \n",
              "50%     446.000000    0.000000    3.000000   28.000000    0.000000   \n",
              "75%     668.500000    1.000000    3.000000   38.000000    1.000000   \n",
              "max     891.000000    1.000000    3.000000   80.000000    8.000000   \n",
              "\n",
              "            Parch        Fare  \n",
              "count  891.000000  891.000000  \n",
              "mean     0.381594   32.204208  \n",
              "std      0.806057   49.693429  \n",
              "min      0.000000    0.000000  \n",
              "25%      0.000000    7.910400  \n",
              "50%      0.000000   14.454200  \n",
              "75%      0.000000   31.000000  \n",
              "max      6.000000  512.329200  "
            ],
            "text/html": [
              "\n",
              "  <div id=\"df-0621aa5c-dfd6-469d-a774-6f844cd4b144\" class=\"colab-df-container\">\n",
              "    <div>\n",
              "<style scoped>\n",
              "    .dataframe tbody tr th:only-of-type {\n",
              "        vertical-align: middle;\n",
              "    }\n",
              "\n",
              "    .dataframe tbody tr th {\n",
              "        vertical-align: top;\n",
              "    }\n",
              "\n",
              "    .dataframe thead th {\n",
              "        text-align: right;\n",
              "    }\n",
              "</style>\n",
              "<table border=\"1\" class=\"dataframe\">\n",
              "  <thead>\n",
              "    <tr style=\"text-align: right;\">\n",
              "      <th></th>\n",
              "      <th>PassengerId</th>\n",
              "      <th>Survived</th>\n",
              "      <th>Pclass</th>\n",
              "      <th>Age</th>\n",
              "      <th>SibSp</th>\n",
              "      <th>Parch</th>\n",
              "      <th>Fare</th>\n",
              "    </tr>\n",
              "  </thead>\n",
              "  <tbody>\n",
              "    <tr>\n",
              "      <th>count</th>\n",
              "      <td>891.000000</td>\n",
              "      <td>891.000000</td>\n",
              "      <td>891.000000</td>\n",
              "      <td>714.000000</td>\n",
              "      <td>891.000000</td>\n",
              "      <td>891.000000</td>\n",
              "      <td>891.000000</td>\n",
              "    </tr>\n",
              "    <tr>\n",
              "      <th>mean</th>\n",
              "      <td>446.000000</td>\n",
              "      <td>0.383838</td>\n",
              "      <td>2.308642</td>\n",
              "      <td>29.699118</td>\n",
              "      <td>0.523008</td>\n",
              "      <td>0.381594</td>\n",
              "      <td>32.204208</td>\n",
              "    </tr>\n",
              "    <tr>\n",
              "      <th>std</th>\n",
              "      <td>257.353842</td>\n",
              "      <td>0.486592</td>\n",
              "      <td>0.836071</td>\n",
              "      <td>14.526497</td>\n",
              "      <td>1.102743</td>\n",
              "      <td>0.806057</td>\n",
              "      <td>49.693429</td>\n",
              "    </tr>\n",
              "    <tr>\n",
              "      <th>min</th>\n",
              "      <td>1.000000</td>\n",
              "      <td>0.000000</td>\n",
              "      <td>1.000000</td>\n",
              "      <td>0.420000</td>\n",
              "      <td>0.000000</td>\n",
              "      <td>0.000000</td>\n",
              "      <td>0.000000</td>\n",
              "    </tr>\n",
              "    <tr>\n",
              "      <th>25%</th>\n",
              "      <td>223.500000</td>\n",
              "      <td>0.000000</td>\n",
              "      <td>2.000000</td>\n",
              "      <td>20.125000</td>\n",
              "      <td>0.000000</td>\n",
              "      <td>0.000000</td>\n",
              "      <td>7.910400</td>\n",
              "    </tr>\n",
              "    <tr>\n",
              "      <th>50%</th>\n",
              "      <td>446.000000</td>\n",
              "      <td>0.000000</td>\n",
              "      <td>3.000000</td>\n",
              "      <td>28.000000</td>\n",
              "      <td>0.000000</td>\n",
              "      <td>0.000000</td>\n",
              "      <td>14.454200</td>\n",
              "    </tr>\n",
              "    <tr>\n",
              "      <th>75%</th>\n",
              "      <td>668.500000</td>\n",
              "      <td>1.000000</td>\n",
              "      <td>3.000000</td>\n",
              "      <td>38.000000</td>\n",
              "      <td>1.000000</td>\n",
              "      <td>0.000000</td>\n",
              "      <td>31.000000</td>\n",
              "    </tr>\n",
              "    <tr>\n",
              "      <th>max</th>\n",
              "      <td>891.000000</td>\n",
              "      <td>1.000000</td>\n",
              "      <td>3.000000</td>\n",
              "      <td>80.000000</td>\n",
              "      <td>8.000000</td>\n",
              "      <td>6.000000</td>\n",
              "      <td>512.329200</td>\n",
              "    </tr>\n",
              "  </tbody>\n",
              "</table>\n",
              "</div>\n",
              "    <div class=\"colab-df-buttons\">\n",
              "\n",
              "  <div class=\"colab-df-container\">\n",
              "    <button class=\"colab-df-convert\" onclick=\"convertToInteractive('df-0621aa5c-dfd6-469d-a774-6f844cd4b144')\"\n",
              "            title=\"Convert this dataframe to an interactive table.\"\n",
              "            style=\"display:none;\">\n",
              "\n",
              "  <svg xmlns=\"http://www.w3.org/2000/svg\" height=\"24px\" viewBox=\"0 -960 960 960\">\n",
              "    <path d=\"M120-120v-720h720v720H120Zm60-500h600v-160H180v160Zm220 220h160v-160H400v160Zm0 220h160v-160H400v160ZM180-400h160v-160H180v160Zm440 0h160v-160H620v160ZM180-180h160v-160H180v160Zm440 0h160v-160H620v160Z\"/>\n",
              "  </svg>\n",
              "    </button>\n",
              "\n",
              "  <style>\n",
              "    .colab-df-container {\n",
              "      display:flex;\n",
              "      gap: 12px;\n",
              "    }\n",
              "\n",
              "    .colab-df-convert {\n",
              "      background-color: #E8F0FE;\n",
              "      border: none;\n",
              "      border-radius: 50%;\n",
              "      cursor: pointer;\n",
              "      display: none;\n",
              "      fill: #1967D2;\n",
              "      height: 32px;\n",
              "      padding: 0 0 0 0;\n",
              "      width: 32px;\n",
              "    }\n",
              "\n",
              "    .colab-df-convert:hover {\n",
              "      background-color: #E2EBFA;\n",
              "      box-shadow: 0px 1px 2px rgba(60, 64, 67, 0.3), 0px 1px 3px 1px rgba(60, 64, 67, 0.15);\n",
              "      fill: #174EA6;\n",
              "    }\n",
              "\n",
              "    .colab-df-buttons div {\n",
              "      margin-bottom: 4px;\n",
              "    }\n",
              "\n",
              "    [theme=dark] .colab-df-convert {\n",
              "      background-color: #3B4455;\n",
              "      fill: #D2E3FC;\n",
              "    }\n",
              "\n",
              "    [theme=dark] .colab-df-convert:hover {\n",
              "      background-color: #434B5C;\n",
              "      box-shadow: 0px 1px 3px 1px rgba(0, 0, 0, 0.15);\n",
              "      filter: drop-shadow(0px 1px 2px rgba(0, 0, 0, 0.3));\n",
              "      fill: #FFFFFF;\n",
              "    }\n",
              "  </style>\n",
              "\n",
              "    <script>\n",
              "      const buttonEl =\n",
              "        document.querySelector('#df-0621aa5c-dfd6-469d-a774-6f844cd4b144 button.colab-df-convert');\n",
              "      buttonEl.style.display =\n",
              "        google.colab.kernel.accessAllowed ? 'block' : 'none';\n",
              "\n",
              "      async function convertToInteractive(key) {\n",
              "        const element = document.querySelector('#df-0621aa5c-dfd6-469d-a774-6f844cd4b144');\n",
              "        const dataTable =\n",
              "          await google.colab.kernel.invokeFunction('convertToInteractive',\n",
              "                                                    [key], {});\n",
              "        if (!dataTable) return;\n",
              "\n",
              "        const docLinkHtml = 'Like what you see? Visit the ' +\n",
              "          '<a target=\"_blank\" href=https://colab.research.google.com/notebooks/data_table.ipynb>data table notebook</a>'\n",
              "          + ' to learn more about interactive tables.';\n",
              "        element.innerHTML = '';\n",
              "        dataTable['output_type'] = 'display_data';\n",
              "        await google.colab.output.renderOutput(dataTable, element);\n",
              "        const docLink = document.createElement('div');\n",
              "        docLink.innerHTML = docLinkHtml;\n",
              "        element.appendChild(docLink);\n",
              "      }\n",
              "    </script>\n",
              "  </div>\n",
              "\n",
              "\n",
              "<div id=\"df-c1e112b9-d441-45aa-8451-11104488d1b9\">\n",
              "  <button class=\"colab-df-quickchart\" onclick=\"quickchart('df-c1e112b9-d441-45aa-8451-11104488d1b9')\"\n",
              "            title=\"Suggest charts\"\n",
              "            style=\"display:none;\">\n",
              "\n",
              "<svg xmlns=\"http://www.w3.org/2000/svg\" height=\"24px\"viewBox=\"0 0 24 24\"\n",
              "     width=\"24px\">\n",
              "    <g>\n",
              "        <path d=\"M19 3H5c-1.1 0-2 .9-2 2v14c0 1.1.9 2 2 2h14c1.1 0 2-.9 2-2V5c0-1.1-.9-2-2-2zM9 17H7v-7h2v7zm4 0h-2V7h2v10zm4 0h-2v-4h2v4z\"/>\n",
              "    </g>\n",
              "</svg>\n",
              "  </button>\n",
              "\n",
              "<style>\n",
              "  .colab-df-quickchart {\n",
              "      --bg-color: #E8F0FE;\n",
              "      --fill-color: #1967D2;\n",
              "      --hover-bg-color: #E2EBFA;\n",
              "      --hover-fill-color: #174EA6;\n",
              "      --disabled-fill-color: #AAA;\n",
              "      --disabled-bg-color: #DDD;\n",
              "  }\n",
              "\n",
              "  [theme=dark] .colab-df-quickchart {\n",
              "      --bg-color: #3B4455;\n",
              "      --fill-color: #D2E3FC;\n",
              "      --hover-bg-color: #434B5C;\n",
              "      --hover-fill-color: #FFFFFF;\n",
              "      --disabled-bg-color: #3B4455;\n",
              "      --disabled-fill-color: #666;\n",
              "  }\n",
              "\n",
              "  .colab-df-quickchart {\n",
              "    background-color: var(--bg-color);\n",
              "    border: none;\n",
              "    border-radius: 50%;\n",
              "    cursor: pointer;\n",
              "    display: none;\n",
              "    fill: var(--fill-color);\n",
              "    height: 32px;\n",
              "    padding: 0;\n",
              "    width: 32px;\n",
              "  }\n",
              "\n",
              "  .colab-df-quickchart:hover {\n",
              "    background-color: var(--hover-bg-color);\n",
              "    box-shadow: 0 1px 2px rgba(60, 64, 67, 0.3), 0 1px 3px 1px rgba(60, 64, 67, 0.15);\n",
              "    fill: var(--button-hover-fill-color);\n",
              "  }\n",
              "\n",
              "  .colab-df-quickchart-complete:disabled,\n",
              "  .colab-df-quickchart-complete:disabled:hover {\n",
              "    background-color: var(--disabled-bg-color);\n",
              "    fill: var(--disabled-fill-color);\n",
              "    box-shadow: none;\n",
              "  }\n",
              "\n",
              "  .colab-df-spinner {\n",
              "    border: 2px solid var(--fill-color);\n",
              "    border-color: transparent;\n",
              "    border-bottom-color: var(--fill-color);\n",
              "    animation:\n",
              "      spin 1s steps(1) infinite;\n",
              "  }\n",
              "\n",
              "  @keyframes spin {\n",
              "    0% {\n",
              "      border-color: transparent;\n",
              "      border-bottom-color: var(--fill-color);\n",
              "      border-left-color: var(--fill-color);\n",
              "    }\n",
              "    20% {\n",
              "      border-color: transparent;\n",
              "      border-left-color: var(--fill-color);\n",
              "      border-top-color: var(--fill-color);\n",
              "    }\n",
              "    30% {\n",
              "      border-color: transparent;\n",
              "      border-left-color: var(--fill-color);\n",
              "      border-top-color: var(--fill-color);\n",
              "      border-right-color: var(--fill-color);\n",
              "    }\n",
              "    40% {\n",
              "      border-color: transparent;\n",
              "      border-right-color: var(--fill-color);\n",
              "      border-top-color: var(--fill-color);\n",
              "    }\n",
              "    60% {\n",
              "      border-color: transparent;\n",
              "      border-right-color: var(--fill-color);\n",
              "    }\n",
              "    80% {\n",
              "      border-color: transparent;\n",
              "      border-right-color: var(--fill-color);\n",
              "      border-bottom-color: var(--fill-color);\n",
              "    }\n",
              "    90% {\n",
              "      border-color: transparent;\n",
              "      border-bottom-color: var(--fill-color);\n",
              "    }\n",
              "  }\n",
              "</style>\n",
              "\n",
              "  <script>\n",
              "    async function quickchart(key) {\n",
              "      const quickchartButtonEl =\n",
              "        document.querySelector('#' + key + ' button');\n",
              "      quickchartButtonEl.disabled = true;  // To prevent multiple clicks.\n",
              "      quickchartButtonEl.classList.add('colab-df-spinner');\n",
              "      try {\n",
              "        const charts = await google.colab.kernel.invokeFunction(\n",
              "            'suggestCharts', [key], {});\n",
              "      } catch (error) {\n",
              "        console.error('Error during call to suggestCharts:', error);\n",
              "      }\n",
              "      quickchartButtonEl.classList.remove('colab-df-spinner');\n",
              "      quickchartButtonEl.classList.add('colab-df-quickchart-complete');\n",
              "    }\n",
              "    (() => {\n",
              "      let quickchartButtonEl =\n",
              "        document.querySelector('#df-c1e112b9-d441-45aa-8451-11104488d1b9 button');\n",
              "      quickchartButtonEl.style.display =\n",
              "        google.colab.kernel.accessAllowed ? 'block' : 'none';\n",
              "    })();\n",
              "  </script>\n",
              "</div>\n",
              "\n",
              "    </div>\n",
              "  </div>\n"
            ],
            "application/vnd.google.colaboratory.intrinsic+json": {
              "type": "dataframe",
              "summary": "{\n  \"name\": \"bank_numeriec_data\",\n  \"rows\": 8,\n  \"fields\": [\n    {\n      \"column\": \"PassengerId\",\n      \"properties\": {\n        \"dtype\": \"number\",\n        \"std\": 320.8159711429856,\n        \"min\": 1.0,\n        \"max\": 891.0,\n        \"num_unique_values\": 6,\n        \"samples\": [\n          891.0,\n          446.0,\n          668.5\n        ],\n        \"semantic_type\": \"\",\n        \"description\": \"\"\n      }\n    },\n    {\n      \"column\": \"Survived\",\n      \"properties\": {\n        \"dtype\": \"number\",\n        \"std\": 314.8713661874558,\n        \"min\": 0.0,\n        \"max\": 891.0,\n        \"num_unique_values\": 5,\n        \"samples\": [\n          0.3838383838383838,\n          1.0,\n          0.4865924542648585\n        ],\n        \"semantic_type\": \"\",\n        \"description\": \"\"\n      }\n    },\n    {\n      \"column\": \"Pclass\",\n      \"properties\": {\n        \"dtype\": \"number\",\n        \"std\": 314.2523437079693,\n        \"min\": 0.8360712409770513,\n        \"max\": 891.0,\n        \"num_unique_values\": 6,\n        \"samples\": [\n          891.0,\n          2.308641975308642,\n          3.0\n        ],\n        \"semantic_type\": \"\",\n        \"description\": \"\"\n      }\n    },\n    {\n      \"column\": \"Age\",\n      \"properties\": {\n        \"dtype\": \"number\",\n        \"std\": 242.9056731818781,\n        \"min\": 0.42,\n        \"max\": 714.0,\n        \"num_unique_values\": 8,\n        \"samples\": [\n          29.69911764705882,\n          28.0,\n          714.0\n        ],\n        \"semantic_type\": \"\",\n        \"description\": \"\"\n      }\n    },\n    {\n      \"column\": \"SibSp\",\n      \"properties\": {\n        \"dtype\": \"number\",\n        \"std\": 314.4908277465442,\n        \"min\": 0.0,\n        \"max\": 891.0,\n        \"num_unique_values\": 6,\n        \"samples\": [\n          891.0,\n          0.5230078563411896,\n          8.0\n        ],\n        \"semantic_type\": \"\",\n        \"description\": \"\"\n      }\n    },\n    {\n      \"column\": \"Parch\",\n      \"properties\": {\n        \"dtype\": \"number\",\n        \"std\": 314.65971717879,\n        \"min\": 0.0,\n        \"max\": 891.0,\n        \"num_unique_values\": 5,\n        \"samples\": [\n          0.38159371492704824,\n          6.0,\n          0.8060572211299559\n        ],\n        \"semantic_type\": \"\",\n        \"description\": \"\"\n      }\n    },\n    {\n      \"column\": \"Fare\",\n      \"properties\": {\n        \"dtype\": \"number\",\n        \"std\": 330.6256632228577,\n        \"min\": 0.0,\n        \"max\": 891.0,\n        \"num_unique_values\": 8,\n        \"samples\": [\n          32.204207968574636,\n          14.4542,\n          891.0\n        ],\n        \"semantic_type\": \"\",\n        \"description\": \"\"\n      }\n    }\n  ]\n}"
            }
          },
          "metadata": {},
          "execution_count": 28
        }
      ]
    },
    {
      "cell_type": "markdown",
      "source": [
        "#Problem 2\n"
      ],
      "metadata": {
        "id": "k6LM70hLqWVa"
      }
    },
    {
      "cell_type": "markdown",
      "source": [
        "1: Load the provided dataset and import in pandas DataFrame.\n",
        "2. Check info of the DataFrame and identify column with missing (nul"
      ],
      "metadata": {
        "id": "RtyPp0-2r092"
      }
    },
    {
      "cell_type": "code",
      "source": [
        "medical_students = pd.read_csv('/content/drive/MyDrive/Concept and Technology of AI/medical_students_dataset.csv')\n",
        "medical_students.isnull()\n",
        "fill_null_data = medical_students.ffill();\n",
        "print(fill_null_data)"
      ],
      "metadata": {
        "id": "94dXlh2dqYxI",
        "colab": {
          "base_uri": "https://localhost:8080/"
        },
        "outputId": "bbf20498-23a4-4c0c-bf10-4bace9856baf"
      },
      "execution_count": 7,
      "outputs": [
        {
          "output_type": "stream",
          "name": "stdout",
          "text": [
            "        Student ID   Age  Gender      Height     Weight Blood Type        BMI  \\\n",
            "0              1.0  18.0  Female  161.777924  72.354947          O  27.645835   \n",
            "1              2.0  18.0    Male  152.069157  47.630941          B  27.645835   \n",
            "2              3.0  32.0  Female  182.537664  55.741083          A  16.729017   \n",
            "3              3.0  30.0    Male  182.112867  63.332207          B  19.096042   \n",
            "4              5.0  23.0  Female  182.112867  46.234173          O  19.096042   \n",
            "...            ...   ...     ...         ...        ...        ...        ...   \n",
            "199995     99995.0  24.0    Male  176.503260  95.756997          B  30.737254   \n",
            "199996     99997.0  29.0  Female  163.917675  45.225194          B  16.831734   \n",
            "199997     99998.0  34.0  Female  163.917675  99.648914          B  33.189303   \n",
            "199998     99999.0  30.0  Female  156.446944  50.142824          A  20.486823   \n",
            "199999    100000.0  20.0  Female  153.927409  99.928405          O  42.175189   \n",
            "\n",
            "        Temperature  Heart Rate  Blood Pressure  Cholesterol Diabetes Smoking  \n",
            "0               NaN        95.0           109.0        203.0       No     NaN  \n",
            "1         98.714977        93.0           104.0        163.0       No      No  \n",
            "2         98.260293        76.0           130.0        216.0      Yes      No  \n",
            "3         98.839605        99.0           112.0        141.0       No     Yes  \n",
            "4         98.480008        95.0           112.0        231.0       No      No  \n",
            "...             ...         ...             ...          ...      ...     ...  \n",
            "199995    99.170685        65.0           121.0        130.0       No      No  \n",
            "199996    97.865785        62.0           125.0        198.0       No     Yes  \n",
            "199997    98.768210        60.0            90.0        154.0       No      No  \n",
            "199998    98.994212        61.0           106.0        225.0       No      No  \n",
            "199999    98.595817        95.0           133.0        132.0       No      No  \n",
            "\n",
            "[200000 rows x 13 columns]\n"
          ]
        }
      ]
    },
    {
      "cell_type": "markdown",
      "source": [
        "3. For the column with missing values fill the values using various techniques we discussed above. Try\n",
        " to explain why did you select the particular methods for particular column."
      ],
      "metadata": {
        "id": "xETcdbLTkznS"
      }
    },
    {
      "cell_type": "code",
      "source": [
        "# Example: Identify columns with missing values\n",
        "missing_values = data.isnull().sum()\n",
        "print(\"\\nColumns with Missing Values:\")\n",
        "print(missing_values[missing_values > 0])\n",
        "\n",
        "# Fill missing values\n",
        "for column in data.columns:\n",
        "    if data[column].isnull().sum() > 0:\n",
        "        if data[column].dtype == 'float64' or data[column].dtype == 'int64':  # Numerical column\n",
        "            # Fill with median to avoid influence of outliers\n",
        "            data[column].fillna(data[column].median(), inplace=True)\n",
        "            print(f\"Filled missing values in '{column}' with median.\")\n",
        "        elif data[column].dtype == 'object':  # Categorical column\n",
        "            # Fill with mode\n",
        "            data[column].fillna(df[column].mode()[0], inplace=True)\n",
        "            print(f\"Filled missing values in '{column}' with mode.\")\n"
      ],
      "metadata": {
        "id": "4JCxw6Jkr7ko",
        "colab": {
          "base_uri": "https://localhost:8080/"
        },
        "outputId": "d70bbeca-8be0-4ff4-ccc6-ccdec62986bf"
      },
      "execution_count": 15,
      "outputs": [
        {
          "output_type": "stream",
          "name": "stdout",
          "text": [
            "\n",
            "Columns with Missing Values:\n",
            "Series([], dtype: int64)\n"
          ]
        }
      ]
    },
    {
      "cell_type": "markdown",
      "source": [
        "4. Check for any duplicate values present in Dataset and do necessary to manage the duplicate items.\n",
        " {Hint: dataset.duplicated.sum()"
      ],
      "metadata": {
        "id": "UWj9GShCkwYF"
      }
    },
    {
      "cell_type": "code",
      "source": [
        "duplicate_count = data.duplicated().sum()\n",
        "print(f\"\\nNumber of duplicate rows in the dataset: {duplicate_count}\")\n",
        "\n",
        "if duplicate_count > 0:\n",
        "    data.drop_duplicates(inplace=True)\n",
        "    print(\"Duplicate rows have been dropped.\")\n",
        "print(f\"Updated number of duplicate rows: {data.duplicated().sum()}\")\n"
      ],
      "metadata": {
        "colab": {
          "base_uri": "https://localhost:8080/"
        },
        "id": "Ind1uMlAk2x-",
        "outputId": "a4de5c3d-829d-4e39-fc3b-bcdf070a8827"
      },
      "execution_count": 16,
      "outputs": [
        {
          "output_type": "stream",
          "name": "stdout",
          "text": [
            "\n",
            "Number of duplicate rows in the dataset: 0\n",
            "Updated number of duplicate rows: 0\n"
          ]
        }
      ]
    },
    {
      "cell_type": "markdown",
      "source": [
        "#3.2 TO DO TASK"
      ],
      "metadata": {
        "id": "NYV3iel0lPtM"
      }
    },
    {
      "cell_type": "code",
      "source": [
        "import pandas as pd\n",
        "import matplotlib.pyplot as plt\n",
        "import seaborn as sns\n",
        "\n",
        "file_path = \"/content/drive/MyDrive/Concept and Technology of AI/Titanic-Dataset.csv\"\n",
        "data = pd.read_csv(file_path)\n",
        "print(\"First 5 rows of the dataset:\")\n",
        "print(data.head())\n"
      ],
      "metadata": {
        "colab": {
          "base_uri": "https://localhost:8080/"
        },
        "id": "FNm_Mekclujr",
        "outputId": "dd3ce7f3-3cb4-4d7e-e537-ad0b3fa69679"
      },
      "execution_count": 19,
      "outputs": [
        {
          "output_type": "stream",
          "name": "stdout",
          "text": [
            "First 5 rows of the dataset:\n",
            "   PassengerId  Survived  Pclass  \\\n",
            "0            1         0       3   \n",
            "1            2         1       1   \n",
            "2            3         1       3   \n",
            "3            4         1       1   \n",
            "4            5         0       3   \n",
            "\n",
            "                                                Name     Sex   Age  SibSp  \\\n",
            "0                            Braund, Mr. Owen Harris    male  22.0      1   \n",
            "1  Cumings, Mrs. John Bradley (Florence Briggs Th...  female  38.0      1   \n",
            "2                             Heikkinen, Miss. Laina  female  26.0      0   \n",
            "3       Futrelle, Mrs. Jacques Heath (Lily May Peel)  female  35.0      1   \n",
            "4                           Allen, Mr. William Henry    male  35.0      0   \n",
            "\n",
            "   Parch            Ticket     Fare Cabin Embarked  \n",
            "0      0         A/5 21171   7.2500   NaN        S  \n",
            "1      0          PC 17599  71.2833   C85        C  \n",
            "2      0  STON/O2. 3101282   7.9250   NaN        S  \n",
            "3      0            113803  53.1000  C123        S  \n",
            "4      0            373450   8.0500   NaN        S  \n"
          ]
        }
      ]
    },
    {
      "cell_type": "markdown",
      "source": [
        " 1. Create a DataFrame that is subsetted for the columns ’Name’, ’Pclass’, ’Sex’, ’Age’, ’Fare’, and ’Survived’.\n",
        " Retain only those rows where ’Pclass’ is equal to 1, representing first-class passengers. What is the mean,\n",
        " median, maximum value, and minimum value of the ’Fare’ column?"
      ],
      "metadata": {
        "id": "k3XXXhDop94U"
      }
    },
    {
      "cell_type": "code",
      "source": [
        "subset = data[['Name', 'Pclass', 'Sex', 'Age', 'Fare', 'Survived']]\n",
        "first_class_passengers = subset[subset['Pclass'] == 1]\n",
        "mean_fare = first_class_passengers['Fare'].mean()\n",
        "median_fare = first_class_passengers['Fare'].median()\n",
        "max_fare = first_class_passengers['Fare'].max()\n",
        "min_fare = first_class_passengers['Fare'].min()\n",
        "print(f\"Mean Fare: {mean_fare:.2f}\")\n",
        "print(f\"Median Fare: {median_fare:.2f}\")\n",
        "print(f\"Maximum Fare: {max_fare:.2f}\")\n",
        "print(f\"Minimum Fare: {min_fare:.2f}\")\n"
      ],
      "metadata": {
        "colab": {
          "base_uri": "https://localhost:8080/"
        },
        "id": "AmVDcde6qCNh",
        "outputId": "45429530-58ab-4f0f-a46e-0ff7ab050ac2"
      },
      "execution_count": 20,
      "outputs": [
        {
          "output_type": "stream",
          "name": "stdout",
          "text": [
            "Mean Fare: 84.15\n",
            "Median Fare: 60.29\n",
            "Maximum Fare: 512.33\n",
            "Minimum Fare: 0.00\n"
          ]
        }
      ]
    },
    {
      "cell_type": "markdown",
      "source": [
        "Problem- 2:\n",
        " How many null values are contained in the ’Age’ column in your subsetted DataFrame? Once you’ve found\n",
        " this out, drop them from your DataFrame."
      ],
      "metadata": {
        "id": "rlTyxY20qZy9"
      }
    },
    {
      "cell_type": "code",
      "source": [
        "null_age_count = first_class_passengers['Age'].isnull().sum()\n",
        "print(f\"Number of missing values in 'Age': {null_age_count}\")\n",
        "first_class_passengers_cleaned = first_class_passengers.dropna(subset=['Age'])\n",
        "print(f\"Missing values in 'Age' after dropping: {first_class_passengers_cleaned['Age'].isnull().sum()}\")\n"
      ],
      "metadata": {
        "colab": {
          "base_uri": "https://localhost:8080/"
        },
        "id": "ZKQzPLOep_-I",
        "outputId": "0a0eead3-ba96-4e0c-9c73-5fa1e28ae315"
      },
      "execution_count": 21,
      "outputs": [
        {
          "output_type": "stream",
          "name": "stdout",
          "text": [
            "Number of missing values in 'Age': 30\n",
            "Missing values in 'Age' after dropping: 0\n"
          ]
        }
      ]
    },
    {
      "cell_type": "markdown",
      "source": [
        "Problem- 3:\n",
        " The ’Embarked’ column in the Titanic dataset contains categorical data representing the ports of embarka\n",
        "tion:\n",
        " • ’C’ for Cherbourg\n",
        " • ’Q’ for Queenstown\n",
        " • ’S’ for Southampton\n",
        " Task:\n",
        " 1. Use one-hot encoding to convert the ’Embarked’ column into separate binary columns (’Embarked C’,\n",
        " ’Embarked Q’, ’Embarked S’).\n",
        " 2. Add these new columns to the original DataFrame.\n",
        " 3. Drop the original ’Embarked’ column.\n",
        " 4. Print the first few rows of the modified DataFrame to verify the changes"
      ],
      "metadata": {
        "id": "p3I_PmVrrjUl"
      }
    },
    {
      "cell_type": "code",
      "source": [
        "# Perform one-hot encoding for the 'Embarked' column\n",
        "embarked_encoded = pd.get_dummies(data['Embarked'], prefix='Embarked')\n",
        "\n",
        "# Add the new binary columns to the original DataFrame\n",
        "data = pd.concat([data, embarked_encoded], axis=1)\n",
        "\n",
        "# Drop the original 'Embarked' column\n",
        "data.drop(columns=['Embarked'], inplace=True)\n",
        "\n",
        "# Display the first few rows of the modified DataFrame\n",
        "print(\"Modified DataFrame after one-hot encoding:\")\n",
        "print(data.head())\n"
      ],
      "metadata": {
        "colab": {
          "base_uri": "https://localhost:8080/"
        },
        "id": "uFs604ooribo",
        "outputId": "00566a12-0c75-476b-c38e-8f20e058de77"
      },
      "execution_count": 22,
      "outputs": [
        {
          "output_type": "stream",
          "name": "stdout",
          "text": [
            "Modified DataFrame after one-hot encoding:\n",
            "   PassengerId  Survived  Pclass  \\\n",
            "0            1         0       3   \n",
            "1            2         1       1   \n",
            "2            3         1       3   \n",
            "3            4         1       1   \n",
            "4            5         0       3   \n",
            "\n",
            "                                                Name     Sex   Age  SibSp  \\\n",
            "0                            Braund, Mr. Owen Harris    male  22.0      1   \n",
            "1  Cumings, Mrs. John Bradley (Florence Briggs Th...  female  38.0      1   \n",
            "2                             Heikkinen, Miss. Laina  female  26.0      0   \n",
            "3       Futrelle, Mrs. Jacques Heath (Lily May Peel)  female  35.0      1   \n",
            "4                           Allen, Mr. William Henry    male  35.0      0   \n",
            "\n",
            "   Parch            Ticket     Fare Cabin  Embarked_C  Embarked_Q  Embarked_S  \n",
            "0      0         A/5 21171   7.2500   NaN       False       False        True  \n",
            "1      0          PC 17599  71.2833   C85        True       False       False  \n",
            "2      0  STON/O2. 3101282   7.9250   NaN       False       False        True  \n",
            "3      0            113803  53.1000  C123       False       False        True  \n",
            "4      0            373450   8.0500   NaN       False       False        True  \n"
          ]
        }
      ]
    },
    {
      "cell_type": "markdown",
      "source": [
        " Problem- 4:\n",
        " Compare the mean survival rates (’Survived’) for the different groups in the ’Sex’ column. Draw a visual\n",
        "ization to show how the survival distributions vary by gender"
      ],
      "metadata": {
        "id": "W7zvHhOlr9Y1"
      }
    },
    {
      "cell_type": "code",
      "source": [
        "survival_rates_by_gender = data.groupby('Sex')['Survived'].mean()\n",
        "print(\"\\nMean Survival Rates by Gender:\")\n",
        "print(survival_rates_by_gender)\n",
        "\n",
        "plt.figure(figsize=(8, 6))\n",
        "sns.barplot(x='Sex', y='Survived', data=data, ci=None)\n",
        "plt.title(\"Survival Rates by Gender\")\n",
        "plt.xlabel(\"Gender\")\n",
        "plt.ylabel(\"Survival Rate\")\n",
        "plt.show()\n"
      ],
      "metadata": {
        "colab": {
          "base_uri": "https://localhost:8080/",
          "height": 755
        },
        "id": "KsSO16LAr8yg",
        "outputId": "04994052-729d-4abc-9067-6f1077738e3f"
      },
      "execution_count": 23,
      "outputs": [
        {
          "output_type": "stream",
          "name": "stdout",
          "text": [
            "\n",
            "Mean Survival Rates by Gender:\n",
            "Sex\n",
            "female    0.742038\n",
            "male      0.188908\n",
            "Name: Survived, dtype: float64\n"
          ]
        },
        {
          "output_type": "stream",
          "name": "stderr",
          "text": [
            "<ipython-input-23-e6364d92aa6c>:6: FutureWarning: \n",
            "\n",
            "The `ci` parameter is deprecated. Use `errorbar=None` for the same effect.\n",
            "\n",
            "  sns.barplot(x='Sex', y='Survived', data=data, ci=None)\n"
          ]
        },
        {
          "output_type": "display_data",
          "data": {
            "text/plain": [
              "<Figure size 800x600 with 1 Axes>"
            ],
            "image/png": "[encoded data removed]"
          },
          "metadata": {}
        }
      ]
    },
    {
      "cell_type": "markdown",
      "source": [
        " Problem- 5:\n",
        " Draw a visualization that breaks your visualization from Exercise 3 down by the port of embarkation (’Em\n",
        "barked’). In this instance, compare the ports ’C’ (Cherbourg), ’Q’ (Queenstown), and ’S’ (Southampton)."
      ],
      "metadata": {
        "id": "1LfC76NysI3m"
      }
    },
    {
      "cell_type": "code",
      "source": [
        "data['Embarked'] = data[['Embarked_C', 'Embarked_Q', 'Embarked_S']].idxmax(axis=1)\n",
        "data['Embarked'] = data['Embarked'].str.replace('Embarked_', '')\n",
        "\n",
        "plt.figure(figsize=(10, 6))\n",
        "sns.barplot(x='Embarked', y='Survived', hue='Sex', data=data, ci=None)\n",
        "plt.title(\"Survival Rates by Port of Embarkation and Gender\")\n",
        "plt.xlabel(\"Port of Embarkation\")\n",
        "plt.ylabel(\"Survival Rate\")\n",
        "plt.legend(title=\"Gender\")\n",
        "plt.show()\n"
      ],
      "metadata": {
        "colab": {
          "base_uri": "https://localhost:8080/",
          "height": 651
        },
        "id": "NlFzcrURsZpf",
        "outputId": "efc378f0-b774-469d-c11a-c6e8442b509d"
      },
      "execution_count": 24,
      "outputs": [
        {
          "output_type": "stream",
          "name": "stderr",
          "text": [
            "<ipython-input-24-80a2e5d7bcff>:5: FutureWarning: \n",
            "\n",
            "The `ci` parameter is deprecated. Use `errorbar=None` for the same effect.\n",
            "\n",
            "  sns.barplot(x='Embarked', y='Survived', hue='Sex', data=data, ci=None)\n"
          ]
        },
        {
          "output_type": "display_data",
          "data": {
            "text/plain": [
              "<Figure size 1000x600 with 1 Axes>"
            ],
            "image/png": "[encoded data removed]"
          },
          "metadata": {}
        }
      ]
    },
    {
      "cell_type": "markdown",
      "source": [
        " Problem- 6{Optional}:\n",
        " Show how the survival rates (’Survived’) vary by age group and passenger class (’Pclass’). Break up the\n",
        " ’Age’ column into five quantiles in your DataFrame, and then compare the means of ’Survived’ by class\n",
        " and age group. Draw a visualization using a any plotting library to represent this graphically."
      ],
      "metadata": {
        "id": "AnwwIJiktkp-"
      }
    },
    {
      "cell_type": "code",
      "source": [
        "data['Age Group'] = pd.qcut(data['Age'], q=5, labels=['Q1', 'Q2', 'Q3', 'Q4', 'Q5'])\n",
        "survival_rates = data.groupby(['Pclass', 'Age Group'])['Survived'].mean().reset_index()\n",
        "#Pivot the data for better visualization\n",
        "pivot_table = survival_rates.pivot(index='Age Group', columns='Pclass', values='Survived')\n",
        "#Visualize using a heatmap\n",
        "plt.figure(figsize=(10, 6))\n",
        "sns.heatmap(pivot_table, annot=True, cmap=\"coolwarm\", fmt=\".2f\")\n",
        "plt.title(\"Survival Rates by Age Group and Passenger Class\")\n",
        "plt.xlabel(\"Passenger Class (Pclass)\")\n",
        "plt.ylabel(\"Age Group\")\n",
        "plt.show()\n"
      ],
      "metadata": {
        "colab": {
          "base_uri": "https://localhost:8080/",
          "height": 619
        },
        "id": "LNQdttk-toQi",
        "outputId": "96438916-c869-41f1-a239-e398ca03f651"
      },
      "execution_count": 25,
      "outputs": [
        {
          "output_type": "stream",
          "name": "stderr",
          "text": [
            "<ipython-input-25-95358a352403>:3: FutureWarning: The default of observed=False is deprecated and will be changed to True in a future version of pandas. Pass observed=False to retain current behavior or observed=True to adopt the future default and silence this warning.\n",
            "  survival_rates = data.groupby(['Pclass', 'Age Group'])['Survived'].mean().reset_index()\n"
          ]
        },
        {
          "output_type": "display_data",
          "data": {
            "text/plain": [
              "<Figure size 1000x600 with 2 Axes>"
            ],
            "image/png": "[encoded data removed]"
          },
          "metadata": {}
        }
      ]
    }
  ]
}